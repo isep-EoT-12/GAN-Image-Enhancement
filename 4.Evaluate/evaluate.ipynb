{
 "cells": [
  {
   "cell_type": "markdown",
   "id": "c7ad873c",
   "metadata": {},
   "source": [
    "# Evaluate models"
   ]
  },
  {
   "cell_type": "markdown",
   "id": "73acb05c",
   "metadata": {},
   "source": [
    "Evaluate pre-trained models and GAN-trained models using MSE, PSNR and SSIM."
   ]
  },
  {
   "cell_type": "code",
   "execution_count": 1,
   "id": "82f8247c",
   "metadata": {
    "execution": {
     "iopub.execute_input": "2022-01-17T09:10:56.289730Z",
     "iopub.status.busy": "2022-01-17T09:10:56.288848Z",
     "iopub.status.idle": "2022-01-17T09:10:57.403238Z",
     "shell.execute_reply": "2022-01-17T09:10:57.401703Z",
     "shell.execute_reply.started": "2022-01-17T09:10:08.646704Z"
    },
    "papermill": {
     "duration": 1.138598,
     "end_time": "2022-01-17T09:10:57.403470",
     "exception": false,
     "start_time": "2022-01-17T09:10:56.264872",
     "status": "completed"
    },
    "tags": []
   },
   "outputs": [],
   "source": [
    "from skimage.metrics import mean_squared_error as mse\n",
    "from skimage.metrics import peak_signal_noise_ratio as psnr\n",
    "from skimage.metrics import structural_similarity as ssim\n",
    "from skimage.util import img_as_float\n",
    "from skimage.color import rgb2gray\n",
    "from skimage.io import imread\n",
    "import matplotlib.pyplot as plt\n",
    "import numpy as np\n",
    "import cv2\n",
    "import glob, os\n",
    "from statistics import mean"
   ]
  },
  {
   "cell_type": "code",
   "execution_count": 2,
   "id": "2626fa2c",
   "metadata": {
    "execution": {
     "iopub.execute_input": "2022-01-17T09:10:57.429712Z",
     "iopub.status.busy": "2022-01-17T09:10:57.428796Z",
     "iopub.status.idle": "2022-01-17T09:10:57.431410Z",
     "shell.execute_reply": "2022-01-17T09:10:57.430764Z",
     "shell.execute_reply.started": "2022-01-17T09:10:09.962849Z"
    },
    "papermill": {
     "duration": 0.016262,
     "end_time": "2022-01-17T09:10:57.431577",
     "exception": false,
     "start_time": "2022-01-17T09:10:57.415315",
     "status": "completed"
    },
    "tags": []
   },
   "outputs": [],
   "source": [
    "L1_PATH = '../input/calculate-quality/l1'\n",
    "L1_PRE_PATH = '../input/calculate-quality/l1_pre'\n",
    "INPUT_PATH = 'Input'\n",
    "PREDICT_PATH = 'Predict'\n",
    "TARGET_PATH = 'Target'"
   ]
  },
  {
   "cell_type": "code",
   "execution_count": 3,
   "id": "839d6bde",
   "metadata": {
    "execution": {
     "iopub.execute_input": "2022-01-17T09:10:57.456612Z",
     "iopub.status.busy": "2022-01-17T09:10:57.455737Z",
     "iopub.status.idle": "2022-01-17T09:10:57.457348Z",
     "shell.execute_reply": "2022-01-17T09:10:57.457834Z",
     "shell.execute_reply.started": "2022-01-17T09:10:09.971306Z"
    },
    "papermill": {
     "duration": 0.017388,
     "end_time": "2022-01-17T09:10:57.458026",
     "exception": false,
     "start_time": "2022-01-17T09:10:57.440638",
     "status": "completed"
    },
    "tags": []
   },
   "outputs": [],
   "source": [
    "def get_paths(path):\n",
    "    input_paths = glob.glob(os.path.join(path,INPUT_PATH, '*.png'))\n",
    "    input_paths.sort()\n",
    "    predict_paths = glob.glob(os.path.join(path,PREDICT_PATH, '*.png'))\n",
    "    predict_paths.sort()\n",
    "    target_paths = glob.glob(os.path.join(path,TARGET_PATH, '*.png'))\n",
    "    target_paths.sort()\n",
    "    \n",
    "    return [input_paths,predict_paths,target_paths]"
   ]
  },
  {
   "cell_type": "code",
   "execution_count": 4,
   "id": "bfa73aee",
   "metadata": {
    "execution": {
     "iopub.execute_input": "2022-01-17T09:10:57.485702Z",
     "iopub.status.busy": "2022-01-17T09:10:57.479039Z",
     "iopub.status.idle": "2022-01-17T09:10:57.488299Z",
     "shell.execute_reply": "2022-01-17T09:10:57.487723Z",
     "shell.execute_reply.started": "2022-01-17T09:10:09.991327Z"
    },
    "papermill": {
     "duration": 0.021521,
     "end_time": "2022-01-17T09:10:57.488468",
     "exception": false,
     "start_time": "2022-01-17T09:10:57.466947",
     "status": "completed"
    },
    "tags": []
   },
   "outputs": [],
   "source": [
    "def get_imgs(paths, is_gray:bool = False):\n",
    "    input_imgs = []\n",
    "    predict_imgs = []\n",
    "    target_imgs = []\n",
    "    \n",
    "    if is_gray:\n",
    "        for i in range(0,len(paths[0])):\n",
    "            input_imgs.append(rgb2gray(img_as_float(imread(paths[0][i]))))\n",
    "            predict_imgs.append(rgb2gray(img_as_float(imread(paths[1][i]))))\n",
    "            target_imgs.append(rgb2gray(img_as_float(imread(paths[2][i]))))\n",
    "    else:\n",
    "        for i in range(0,len(paths[0])):\n",
    "            input_imgs.append(img_as_float(imread(paths[0][i])))\n",
    "            predict_imgs.append(img_as_float(imread(paths[1][i])))\n",
    "            target_imgs.append(img_as_float(imread(paths[2][i])))\n",
    "\n",
    "    return [input_imgs,predict_imgs,target_imgs]"
   ]
  },
  {
   "cell_type": "code",
   "execution_count": 5,
   "id": "59892a9c",
   "metadata": {
    "execution": {
     "iopub.execute_input": "2022-01-17T09:10:57.513536Z",
     "iopub.status.busy": "2022-01-17T09:10:57.512800Z",
     "iopub.status.idle": "2022-01-17T09:10:57.515923Z",
     "shell.execute_reply": "2022-01-17T09:10:57.515382Z",
     "shell.execute_reply.started": "2022-01-17T09:10:10.006282Z"
    },
    "papermill": {
     "duration": 0.01857,
     "end_time": "2022-01-17T09:10:57.516095",
     "exception": false,
     "start_time": "2022-01-17T09:10:57.497525",
     "status": "completed"
    },
    "tags": []
   },
   "outputs": [],
   "source": [
    "def cal_mse(imgs):\n",
    "    mse_c_t = []\n",
    "    mse_p_t = []\n",
    "    \n",
    "    for i in range(0,len(imgs[0])):\n",
    "        mse_c_t.append(mse(imgs[2][i],imgs[0][i]))\n",
    "        mse_p_t.append(mse(imgs[2][i],imgs[1][i]))\n",
    "    \n",
    "    return [mse_c_t,mse_p_t]"
   ]
  },
  {
   "cell_type": "code",
   "execution_count": 6,
   "id": "045d46ac",
   "metadata": {
    "execution": {
     "iopub.execute_input": "2022-01-17T09:10:57.541392Z",
     "iopub.status.busy": "2022-01-17T09:10:57.540637Z",
     "iopub.status.idle": "2022-01-17T09:10:57.543476Z",
     "shell.execute_reply": "2022-01-17T09:10:57.542818Z",
     "shell.execute_reply.started": "2022-01-17T09:10:10.018783Z"
    },
    "papermill": {
     "duration": 0.018608,
     "end_time": "2022-01-17T09:10:57.543636",
     "exception": false,
     "start_time": "2022-01-17T09:10:57.525028",
     "status": "completed"
    },
    "tags": []
   },
   "outputs": [],
   "source": [
    "def cal_psnr(imgs):\n",
    "    psnr_c_t = []\n",
    "    psnr_p_t = []\n",
    "    \n",
    "    for i in range(0,len(imgs[0])):\n",
    "        psnr_c_t.append(psnr(imgs[2][i],imgs[0][i]))\n",
    "        psnr_p_t.append(psnr(imgs[2][i],imgs[1][i]))\n",
    "    \n",
    "    return [psnr_c_t,psnr_p_t]"
   ]
  },
  {
   "cell_type": "code",
   "execution_count": 7,
   "id": "5c6e4831",
   "metadata": {
    "execution": {
     "iopub.execute_input": "2022-01-17T09:10:57.569096Z",
     "iopub.status.busy": "2022-01-17T09:10:57.568444Z",
     "iopub.status.idle": "2022-01-17T09:10:57.571697Z",
     "shell.execute_reply": "2022-01-17T09:10:57.572187Z",
     "shell.execute_reply.started": "2022-01-17T09:10:10.032932Z"
    },
    "papermill": {
     "duration": 0.019731,
     "end_time": "2022-01-17T09:10:57.572366",
     "exception": false,
     "start_time": "2022-01-17T09:10:57.552635",
     "status": "completed"
    },
    "tags": []
   },
   "outputs": [],
   "source": [
    "def cal_ssim(imgs):\n",
    "    ssim_c_t = []\n",
    "    ssim_p_t = []\n",
    "    \n",
    "    for i in range(0,len(imgs[0])):\n",
    "        ssim_c_t.append(ssim(imgs[2][i],imgs[0][i],multichannel=True))\n",
    "        ssim_p_t.append(ssim(imgs[2][i],imgs[1][i],multichannel=True))\n",
    "    \n",
    "    return [ssim_c_t,ssim_p_t]"
   ]
  },
  {
   "cell_type": "code",
   "execution_count": 8,
   "id": "56bc0661",
   "metadata": {
    "execution": {
     "iopub.execute_input": "2022-01-17T09:10:57.597755Z",
     "iopub.status.busy": "2022-01-17T09:10:57.596994Z",
     "iopub.status.idle": "2022-01-17T09:10:59.667733Z",
     "shell.execute_reply": "2022-01-17T09:10:59.667219Z",
     "shell.execute_reply.started": "2022-01-17T09:10:10.049855Z"
    },
    "papermill": {
     "duration": 2.086312,
     "end_time": "2022-01-17T09:10:59.667902",
     "exception": false,
     "start_time": "2022-01-17T09:10:57.581590",
     "status": "completed"
    },
    "tags": []
   },
   "outputs": [
    {
     "name": "stdout",
     "output_type": "stream",
     "text": [
      "0.013761414778461389 0.023721830779863316\n",
      "20.368609043880586 16.995672875792696\n",
      "0.8175410372641535 0.6675779323594162\n"
     ]
    }
   ],
   "source": [
    "l1_pre_imgs = get_imgs(get_paths(L1_PRE_PATH))\n",
    "#l1_imgs_gray = get_imgs(get_paths(),is_gray = True)\n",
    "l1_pre_mse = cal_mse(l1_pre_imgs)\n",
    "l1_pre_psnr = cal_psnr(l1_pre_imgs)\n",
    "l1_pre_ssim = cal_ssim(l1_pre_imgs)\n",
    "print(mean(l1_pre_mse[0]),mean(l1_pre_mse[1]))\n",
    "print(mean(l1_pre_psnr[0]),mean(l1_pre_psnr[1]))\n",
    "print(mean(l1_pre_ssim[0]),mean(l1_pre_ssim[1]))"
   ]
  },
  {
   "cell_type": "code",
   "execution_count": 9,
   "id": "ac000878",
   "metadata": {
    "execution": {
     "iopub.execute_input": "2022-01-17T09:10:59.690197Z",
     "iopub.status.busy": "2022-01-17T09:10:59.689527Z",
     "iopub.status.idle": "2022-01-17T09:11:02.040804Z",
     "shell.execute_reply": "2022-01-17T09:11:02.041361Z",
     "shell.execute_reply.started": "2022-01-17T09:10:12.344439Z"
    },
    "papermill": {
     "duration": 2.364266,
     "end_time": "2022-01-17T09:11:02.041553",
     "exception": false,
     "start_time": "2022-01-17T09:10:59.677287",
     "status": "completed"
    },
    "tags": []
   },
   "outputs": [
    {
     "name": "stdout",
     "output_type": "stream",
     "text": [
      "0.015935415431195272 0.010167728361089699\n",
      "19.721774027802276 20.673681352162774\n",
      "0.7802484590105578 0.8004658455285217\n"
     ]
    }
   ],
   "source": [
    "l1_imgs = get_imgs(get_paths(L1_PATH))\n",
    "#l1_imgs_gray = get_imgs(get_paths(),is_gray = True)\n",
    "l1_mse = cal_mse(l1_imgs)\n",
    "l1_psnr = cal_psnr(l1_imgs)\n",
    "l1_ssim = cal_ssim(l1_imgs)\n",
    "print(mean(l1_mse[0]),mean(l1_mse[1]))\n",
    "print(mean(l1_psnr[0]),mean(l1_psnr[1]))\n",
    "print(mean(l1_ssim[0]),mean(l1_ssim[1]))"
   ]
  }
 ],
 "metadata": {
  "kernelspec": {
   "display_name": "Python 3",
   "language": "python",
   "name": "python3"
  },
  "language_info": {
   "codemirror_mode": {
    "name": "ipython",
    "version": 3
   },
   "file_extension": ".py",
   "mimetype": "text/x-python",
   "name": "python",
   "nbconvert_exporter": "python",
   "pygments_lexer": "ipython3",
   "version": "3.7.12"
  },
  "papermill": {
   "default_parameters": {},
   "duration": 16.819289,
   "end_time": "2022-01-17T09:11:02.965048",
   "environment_variables": {},
   "exception": null,
   "input_path": "__notebook__.ipynb",
   "output_path": "__notebook__.ipynb",
   "parameters": {},
   "start_time": "2022-01-17T09:10:46.145759",
   "version": "2.3.3"
  }
 },
 "nbformat": 4,
 "nbformat_minor": 5
}
